{
 "cells": [
  {
   "cell_type": "code",
   "execution_count": 9,
   "id": "d9487e06",
   "metadata": {},
   "outputs": [],
   "source": [
    "import requests\n",
    "import json\n",
    "import time\n",
    "import pymongo\n",
    "import pandas as pd"
   ]
  },
  {
   "cell_type": "code",
   "execution_count": 60,
   "id": "af7dc365",
   "metadata": {},
   "outputs": [],
   "source": [
    "usa = pd.read_csv('usa.csv')\n",
    "ZIP = [\"36104\",\"99801\",\"85001\",\"72201\",\"95814\",\"80202\",\"06103\"\n",
    "    ,\"19901\",\"32301\",\"30303\",\"96813\",\"83702\",\"62701\",\"46225\",\"50309\"\n",
    "    ,\"66603\",\"40601\",\"70802\",\"04330\",\"21401\",\"02201\",\"48933\",\"55102\"\n",
    "    ,\"39205\",\"65101\",\"59623\",\"68502\",\"89701\",\"03301\",\"08608\",\"87501\"\n",
    "    ,\"12207\",\"27601\",\"58501\",\"43215\",\"73102\",\"97301\",\"17101\",\"02903\"\n",
    "    ,\"29217\",\"57501\",\"37219\",\"78701\",\"84111\",\"05602\",\"23219\",\"98507\"\n",
    "    ,\"25301\",\"53703\",\"82001\"]\n",
    "STATE = usa.head(50)['State'].values\n",
    "\n",
    "LAT = [\"32.377716\",\"58.301598\",\"33.448143\",\"34.746613\",\"38.576668\",\"39.739227\",\n",
    "        \"41.764046\",\"39.157307\",\"21.307442\",\"30.438118\",\"33.749027\",\"43.617775\",\n",
    "        \"39.798363\",\"39.768623\",\"41.591087\",\"39.048191\",\"38.186722\",\"30.457069\",\n",
    "        \"44.307167\",\"38.978764\",\"42.358162\",\"42.733635\",\"44.955097\",\"32.303848\",\n",
    "        \"38.579201\",\"46.585709\",\"40.808075\",\"39.163914\",\"43.206898\",\"40.220596\",\n",
    "        \"35.68224\",\"35.78043\",\"46.82085\",\"42.652843\",\"39.961346\",\"35.492207\",\n",
    "        \"44.938461\",\"40.264378\",\"41.830914\",\"34.000343\",\"44.367031\",\"36.16581\",\n",
    "        \"30.27467\",\"40.777477\",\"44.262436\",\"37.538857\",\"47.035805\",\"38.336246\",\n",
    "        \"43.074684\",\"41.140259\"]\n",
    "LON = [\"-86.300568\",\"-134.420212\",\"-112.096962\",\"-92.288986\",\"-121.493629\",\"-104.984856\",\n",
    "        \"-72.682198\",\"-75.519722\",\"-157.857376\",\"-84.281296\",\"-84.388229\",\"-116.199722\",\n",
    "        \"-89.654961\",\"-86.162643\",\"-93.603729\",\"-95.677956\",\"-84.875374\",\"-91.187393\",\n",
    "        \"-69.781693\",\"-76.490936\",\"-71.063698\",\"-84.555328\",\"-93.102211\",\"-90.182106\",\n",
    "        \"-92.172935\",\"-112.018417\",\"-96.699654\",\"-119.766121\",\"-71.537994\",\"-74.769913\",\n",
    "        \"-105.939728\",\"-78.639099\",\"-100.783318\",\"-73.757874\",\"-82.999069\",\"-97.503342\",\n",
    "        \"-123.030403\",\"-76.883598\",\"-71.414963\",\"-81.033211\",\"-100.346405\",\"-86.784241\",\n",
    "        \"-97.740349\",\"-111.888237\",\"-72.580536\",\"-77.43364\",\"-122.905014\",\"-81.612328\",\n",
    "        \"-89.384445\",\"-104.820236\"]"
   ]
  },
  {
   "cell_type": "code",
   "execution_count": 62,
   "id": "70d88bef",
   "metadata": {},
   "outputs": [
    {
     "data": {
      "text/plain": [
       "50"
      ]
     },
     "execution_count": 62,
     "metadata": {},
     "output_type": "execute_result"
    }
   ],
   "source": [
    "len(ZIP)"
   ]
  },
  {
   "cell_type": "markdown",
   "id": "cac26ff0",
   "metadata": {},
   "source": [
    "Get current weather condition."
   ]
  },
  {
   "cell_type": "code",
   "execution_count": 63,
   "id": "50812d52",
   "metadata": {},
   "outputs": [],
   "source": [
    "# https://api.openweathermap.org/data/2.5/onecall?lat={lat}&lon={lon}&exclude={part}&appid={API key}\n",
    "BASE_URL = \"https://api.openweathermap.org/data/2.5/weather?zip=\"\n",
    "API_KEY = \"4bef6b99cccc82e075c4404ee09824f5\"\n",
    "# 3090ecca0f9472002c4fb40568723c37\n",
    "data = []\n",
    "for zipcode in ZIP:\n",
    "    URL = BASE_URL + zipcode + \"&units=imperial&appid=\" + API_KEY\n",
    "    response = requests.get(URL)\n",
    "    data.append(response.json())"
   ]
  },
  {
   "cell_type": "code",
   "execution_count": 64,
   "id": "69ff6e40",
   "metadata": {},
   "outputs": [],
   "source": [
    "client = pymongo.MongoClient()\n",
    "client.list_database_names()\n",
    "database = client['test']\n",
    "collection = database['weather']\n",
    "collection = database['current']\n",
    "collection.drop()\n",
    "collection = database['current']\n",
    "for jsn in data:\n",
    "    collection.insert_one(jsn)"
   ]
  },
  {
   "cell_type": "code",
   "execution_count": 65,
   "id": "50c6d319",
   "metadata": {},
   "outputs": [
    {
     "data": {
      "text/plain": [
       "{'coord': {'lon': -71.0598, 'lat': 42.3584},\n",
       " 'weather': [{'id': 803,\n",
       "   'main': 'Clouds',\n",
       "   'description': 'broken clouds',\n",
       "   'icon': '04d'}],\n",
       " 'base': 'stations',\n",
       " 'main': {'temp': 70.7,\n",
       "  'feels_like': 70.66,\n",
       "  'temp_min': 65.05,\n",
       "  'temp_max': 75.16,\n",
       "  'pressure': 1018,\n",
       "  'humidity': 68},\n",
       " 'visibility': 10000,\n",
       " 'wind': {'speed': 1.99, 'deg': 0, 'gust': 0},\n",
       " 'clouds': {'all': 75},\n",
       " 'dt': 1634073609,\n",
       " 'sys': {'type': 2,\n",
       "  'id': 2013408,\n",
       "  'country': 'US',\n",
       "  'sunrise': 1634036020,\n",
       "  'sunset': 1634076438},\n",
       " 'timezone': -14400,\n",
       " 'id': 0,\n",
       " 'name': 'Boston',\n",
       " 'cod': 200,\n",
       " '_id': ObjectId('6165fc1b0d582e2632521b1b')}"
      ]
     },
     "execution_count": 65,
     "metadata": {},
     "output_type": "execute_result"
    }
   ],
   "source": [
    "data[20]"
   ]
  },
  {
   "cell_type": "markdown",
   "id": "690489e2",
   "metadata": {},
   "source": [
    "Get 4-days weather condition hourly."
   ]
  },
  {
   "cell_type": "code",
   "execution_count": 31,
   "id": "611cf8ef",
   "metadata": {},
   "outputs": [],
   "source": [
    "# https://api.openweathermap.org/data/2.5/onecall?lat={lat}&lon={lon}&exclude={part}&appid={API key}\n",
    "BASE_URL = \"https://api.openweathermap.org/data/2.5/onecall?lat=\"\n",
    "API_KEY = \"3090ecca0f9472002c4fb40568723c37\"\n",
    "data = []\n",
    "for idx in range(len(LAT)):\n",
    "    URL = BASE_URL + LAT[idx] +\"&lon=\" + LON[idx] + \"&exclude=current,minutely,hourly,alerts&units=imperial&appid=\" + API_KEY\n",
    "    response = requests.get(URL)\n",
    "    data.append(response.json())"
   ]
  },
  {
   "cell_type": "code",
   "execution_count": 32,
   "id": "2497abb4",
   "metadata": {},
   "outputs": [],
   "source": [
    "client = pymongo.MongoClient()\n",
    "client.list_database_names()\n",
    "database = client['test']\n",
    "collection = database['forecast']\n",
    "for jsn in data:\n",
    "    collection.insert_one(jsn)"
   ]
  },
  {
   "cell_type": "markdown",
   "id": "519fba68",
   "metadata": {},
   "source": [
    "Get historical data 5 days."
   ]
  },
  {
   "cell_type": "code",
   "execution_count": 48,
   "id": "0307ae88",
   "metadata": {},
   "outputs": [],
   "source": [
    "# https://api.openweathermap.org/data/2.5/onecall/timemachine?lat={lat}&lon={lon}&dt={time}&appid={API key}\n",
    "BASE_URL = \"https://api.openweathermap.org/data/2.5/onecall/timemachine?lat=\"\n",
    "API_KEY = \"3090ecca0f9472002c4fb40568723c37\"\n",
    "data = []\n",
    "dt_sec = 86400\n",
    "for idx in range(len(LAT)):\n",
    "    dt = int(time.time()) - (5 * 86400)\n",
    "    for i in range(5):\n",
    "        URL = BASE_URL + LAT[idx] +\"&lon=\" + LON[idx] + \"&dt=\" + str(dt) + \"&units=imperial&appid=\" + API_KEY\n",
    "        dt += dt_sec\n",
    "        response = requests.get(URL)\n",
    "        data.append(response.json())\n",
    "    "
   ]
  },
  {
   "cell_type": "code",
   "execution_count": 49,
   "id": "e5c3888f",
   "metadata": {},
   "outputs": [],
   "source": [
    "client = pymongo.MongoClient()\n",
    "client.list_database_names()\n",
    "database = client['test']\n",
    "collection = database['history']\n",
    "# collection.drop()\n",
    "# collection = database['history']\n",
    "for jsn in data:\n",
    "    collection.insert_one(jsn)"
   ]
  },
  {
   "cell_type": "code",
   "execution_count": 43,
   "id": "c13cc73c",
   "metadata": {},
   "outputs": [],
   "source": [
    "cursor = collection.find({},{'lat':1,'lon':1,'current':1})\n",
    "entity = list(cursor)"
   ]
  },
  {
   "cell_type": "markdown",
   "id": "38db3efc",
   "metadata": {},
   "source": [
    "2019 - 2021 historical data."
   ]
  },
  {
   "cell_type": "code",
   "execution_count": 58,
   "id": "fb7484f4",
   "metadata": {},
   "outputs": [],
   "source": [
    "import pyspark\n",
    "\n",
    "spark = pyspark.sql.SparkSession.builder.getOrCreate()\n",
    "data_path = \"data/combined.csv\""
   ]
  },
  {
   "cell_type": "code",
   "execution_count": 69,
   "id": "2327782c",
   "metadata": {},
   "outputs": [
    {
     "name": "stdout",
     "output_type": "stream",
     "text": [
      "root\n",
      " |-- STATION: string (nullable = true)\n",
      " |-- NAME: string (nullable = true)\n",
      " |-- LATITUDE: string (nullable = true)\n",
      " |-- LONGITUDE: string (nullable = true)\n",
      " |-- ELEVATION: string (nullable = true)\n",
      " |-- DATE: string (nullable = true)\n",
      " |-- AWND: string (nullable = true)\n",
      " |-- TAVG: string (nullable = true)\n",
      " |-- TMAX: string (nullable = true)\n",
      " |-- TMIN: string (nullable = true)\n",
      " |-- WT01: string (nullable = true)\n",
      " |-- WT02: string (nullable = true)\n",
      " |-- WT03: string (nullable = true)\n",
      " |-- WT04: string (nullable = true)\n",
      " |-- WT05: string (nullable = true)\n",
      " |-- WT06: string (nullable = true)\n",
      " |-- WT07: string (nullable = true)\n",
      " |-- WT08: string (nullable = true)\n",
      " |-- WT09: string (nullable = true)\n",
      " |-- WT11: string (nullable = true)\n",
      "\n"
     ]
    }
   ],
   "source": [
    "df = spark.read.csv(data_path, header='true', inferSchema='true')\n",
    "df.createOrReplaceTempView(\"data\")\n",
    "df.printSchema()"
   ]
  },
  {
   "cell_type": "code",
   "execution_count": 82,
   "id": "b95ac189",
   "metadata": {
    "scrolled": true
   },
   "outputs": [
    {
     "name": "stdout",
     "output_type": "stream",
     "text": [
      "+-----------+--------------------+--------+---------+---------+----------+-----+----+----+----+-----+-----+-----+----+----+----+----+-----+----+----+\n",
      "|    STATION|                NAME|LATITUDE|LONGITUDE|ELEVATION|      DATE| AWND|TAVG|TMAX|TMIN| WT01| WT02| WT03|WT04|WT05|WT06|WT07| WT08|WT09|WT11|\n",
      "+-----------+--------------------+--------+---------+---------+----------+-----+----+----+----+-----+-----+-----+----+----+----+----+-----+----+----+\n",
      "|USW00013895|MONTGOMERY AIRPOR...| 32.2997| -86.4075|     61.6|2021-01-01| 8.50|  69|  72|  58|    1| null|    1|null|null|null|null| null|null|null|\n",
      "|USW00013895|MONTGOMERY AIRPOR...| 32.2997| -86.4075|     61.6|2021-01-02| 5.82|  58|  63|  47| null| null| null|null|null|null|null| null|null|null|\n",
      "|USW00013895|MONTGOMERY AIRPOR...| 32.2997| -86.4075|     61.6|2021-01-03| 7.61|  49|  56|  36| null| null| null|null|null|null|null| null|null|null|\n",
      "|USW00013895|MONTGOMERY AIRPOR...| 32.2997| -86.4075|     61.6|2021-01-04| 2.91|  45|  63|  31|    1|    1| null|null|null|null|null| null|null|null|\n",
      "|USW00013895|MONTGOMERY AIRPOR...| 32.2997| -86.4075|     61.6|2021-01-05| 7.16|  51|  63|  35|    1|    1| null|null|null|null|null| null|null|null|\n",
      "|USW00013895|MONTGOMERY AIRPOR...| 32.2997| -86.4075|     61.6|2021-01-06| 2.68|  43|  56|  30|    1| null| null|null|null|null|null| null|null|null|\n",
      "|USW00013895|MONTGOMERY AIRPOR...| 32.2997| -86.4075|     61.6|2021-01-07|10.29|  44|  48|  37|    1| null| null|null|null|null|null| null|null|null|\n",
      "|USW00013895|MONTGOMERY AIRPOR...| 32.2997| -86.4075|     61.6|2021-01-08|11.41|  45|  48|  41|    1| null| null|null|null|null|null| null|null|null|\n",
      "|USW00013895|MONTGOMERY AIRPOR...| 32.2997| -86.4075|     61.6|2021-01-09|10.29|  40|  41|  37| null| null| null|null|null|null|null| null|null|null|\n",
      "|USW00013895|MONTGOMERY AIRPOR...| 32.2997| -86.4075|     61.6|2021-01-10| 4.25|  38|  44|  34| null| null| null|null|null|null|null| null|null|null|\n",
      "|USW00013895|MONTGOMERY AIRPOR...| 32.2997| -86.4075|     61.6|2021-01-11| 6.49|  43|  47|  40|    1| null| null|null|null|null|null| null|null|null|\n",
      "|USW00013895|MONTGOMERY AIRPOR...| 32.2997| -86.4075|     61.6|2021-01-12| 7.61|  43|  44|  35|    1| null| null|null|null|null|null|    1|null|null|\n",
      "|USW00013895|MONTGOMERY AIRPOR...| 32.2997| -86.4075|     61.6|2021-01-13| 4.47|  39|  52|  30|    1|    1| null|null|null|null|null| null|null|null|\n",
      "|USW00013895|MONTGOMERY AIRPOR...| 32.2997| -86.4075|     61.6|2021-01-14| 5.82|  42|  62|  27| null| null| null|null|null|null|null| null|null|null|\n",
      "|USW00013895|MONTGOMERY AIRPOR...| 32.2997| -86.4075|     61.6|2021-01-15|10.51|  53|  60|  35| null| null| null|null|null|null|null| null|null|null|\n",
      "|USW00013895|MONTGOMERY AIRPOR...| 32.2997| -86.4075|     61.6|2021-01-16| 8.72|  42|  51|  29| null| null| null|null|null|null|null| null|null|null|\n",
      "|USW00013895|MONTGOMERY AIRPOR...| 32.2997| -86.4075|     61.6|2021-01-17| 5.82|  39|  57|  26| null| null| null|null|null|null|null| null|null|null|\n",
      "|USW00013895|MONTGOMERY AIRPOR...| 32.2997| -86.4075|     61.6|2021-01-18| 4.70|  46|  59|  31| null| null| null|null|null|null|null| null|null|null|\n",
      "|USW00013895|MONTGOMERY AIRPOR...| 32.2997| -86.4075|     61.6|2021-01-19| 2.91|  45|  66|  30| null| null| null|null|null|null|null| null|null|null|\n",
      "|USW00013895|MONTGOMERY AIRPOR...| 32.2997| -86.4075|     61.6|2021-01-20| 4.70|  56|  64|  49| null| null| null|null|null|null|null| null|null|null|\n",
      "+-----------+--------------------+--------+---------+---------+----------+-----+----+----+----+-----+-----+-----+----+----+----+----+-----+----+----+\n",
      "only showing top 20 rows\n",
      "\n"
     ]
    }
   ],
   "source": [
    "spark.sql('SELECT * FROM data WHERE (LATITUDE BETWEEN 30 AND 34) AND (LONGITUDE BETWEEN -88 AND -84)').show()"
   ]
  },
  {
   "cell_type": "code",
   "execution_count": null,
   "id": "61f9bd2d",
   "metadata": {},
   "outputs": [],
   "source": []
  }
 ],
 "metadata": {
  "interpreter": {
   "hash": "f07d2fcc632da3703030e1c1cbc857ccd1f31ab146341290fd4662dc4d8c5d07"
  },
  "kernelspec": {
   "display_name": "Python 3.8.8 64-bit ('base': conda)",
   "name": "python3"
  },
  "language_info": {
   "codemirror_mode": {
    "name": "ipython",
    "version": 3
   },
   "file_extension": ".py",
   "mimetype": "text/x-python",
   "name": "python",
   "nbconvert_exporter": "python",
   "pygments_lexer": "ipython3",
   "version": "3.8.8"
  }
 },
 "nbformat": 4,
 "nbformat_minor": 5
}
