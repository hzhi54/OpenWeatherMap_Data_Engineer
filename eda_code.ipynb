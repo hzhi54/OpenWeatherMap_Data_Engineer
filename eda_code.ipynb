{
 "cells": [
  {
   "cell_type": "code",
   "execution_count": 42,
   "id": "a1e437a7",
   "metadata": {},
   "outputs": [],
   "source": [
    "import pymongo\n",
    "import pandas as pd\n",
    "import time"
   ]
  },
  {
   "cell_type": "code",
   "execution_count": 85,
   "id": "266312a8",
   "metadata": {
    "scrolled": true
   },
   "outputs": [],
   "source": [
    "usa = pd.read_csv('usa.csv')"
   ]
  },
  {
   "cell_type": "code",
   "execution_count": 86,
   "id": "d213bf1d",
   "metadata": {},
   "outputs": [],
   "source": [
    "ZIP = usa['ZIP'].values\n",
    "\n",
    "STATE = usa.head(50)['State'].values"
   ]
  },
  {
   "cell_type": "code",
   "execution_count": 87,
   "id": "c94c56d1",
   "metadata": {},
   "outputs": [],
   "source": [
    "client = pymongo.MongoClient()\n",
    "database = client['test']\n",
    "collection = database['current']"
   ]
  },
  {
   "cell_type": "code",
   "execution_count": 88,
   "id": "b515277e",
   "metadata": {},
   "outputs": [],
   "source": [
    "cursor = collection.find({},{'_id':0,'main':1,'wind':1,'name':1,'coord':1})\n",
    "entity = list(cursor)"
   ]
  },
  {
   "cell_type": "code",
   "execution_count": 89,
   "id": "05f59af4",
   "metadata": {},
   "outputs": [
    {
     "data": {
      "text/plain": [
       "50"
      ]
     },
     "execution_count": 89,
     "metadata": {},
     "output_type": "execute_result"
    }
   ],
   "source": [
    "len(entity)"
   ]
  },
  {
   "cell_type": "code",
   "execution_count": 92,
   "id": "02afcef5",
   "metadata": {
    "scrolled": true
   },
   "outputs": [],
   "source": [
    "weather_dict = {'Name':[],'Temperature':[],'Temp_Min':[],'Temp_Max':[],'Humidity':[],'Wind':[],'Zip':[],'Latitude':[],'Longitude':[]}\n",
    "for i,ent in enumerate(entity):\n",
    "    weather_dict['Name'].append(ent['name'])\n",
    "    weather_dict['Temperature'].append(ent['main']['temp'])\n",
    "    weather_dict['Temp_Min'].append(ent['main']['temp_min'])\n",
    "    weather_dict['Temp_Max'].append(ent['main']['temp_max'])\n",
    "    weather_dict['Humidity'].append(ent['main']['humidity'])\n",
    "    weather_dict['Wind'].append(ent['wind']['speed'])\n",
    "    weather_dict['Zip'].append(ZIP[i])\n",
    "    weather_dict['Latitude'].append(ent['coord']['lat'])\n",
    "    weather_dict['Longitude'].append(ent['coord']['lon'])\n",
    "    \n",
    "df = pd.DataFrame(weather_dict)\n",
    "df['State'] = STATE"
   ]
  },
  {
   "cell_type": "code",
   "execution_count": 91,
   "id": "3e68aa22",
   "metadata": {},
   "outputs": [
    {
     "data": {
      "text/plain": [
       "36104.0"
      ]
     },
     "execution_count": 91,
     "metadata": {},
     "output_type": "execute_result"
    }
   ],
   "source": [
    "df[df['Name'] == \"Montgomery\" ].Zip[0]"
   ]
  },
  {
   "cell_type": "code",
   "execution_count": 9,
   "id": "6ba39072",
   "metadata": {},
   "outputs": [],
   "source": [
    "client = pymongo.MongoClient()\n",
    "database = client['test']\n",
    "collection = database['forecast']"
   ]
  },
  {
   "cell_type": "code",
   "execution_count": 11,
   "id": "f0578401",
   "metadata": {},
   "outputs": [],
   "source": [
    "cursor = collection.find({},{'_id':0,'daily':1})\n",
    "entity = list(cursor)"
   ]
  },
  {
   "cell_type": "code",
   "execution_count": 12,
   "id": "0f569e85",
   "metadata": {
    "scrolled": true
   },
   "outputs": [
    {
     "data": {
      "text/html": [
       "<div>\n",
       "<style scoped>\n",
       "    .dataframe tbody tr th:only-of-type {\n",
       "        vertical-align: middle;\n",
       "    }\n",
       "\n",
       "    .dataframe tbody tr th {\n",
       "        vertical-align: top;\n",
       "    }\n",
       "\n",
       "    .dataframe thead th {\n",
       "        text-align: right;\n",
       "    }\n",
       "</style>\n",
       "<table border=\"1\" class=\"dataframe\">\n",
       "  <thead>\n",
       "    <tr style=\"text-align: right;\">\n",
       "      <th></th>\n",
       "      <th>dt</th>\n",
       "      <th>Temperature</th>\n",
       "      <th>Temp_Min</th>\n",
       "      <th>Temp_Max</th>\n",
       "      <th>Humidity</th>\n",
       "      <th>Wind</th>\n",
       "      <th>Main</th>\n",
       "      <th>Zip</th>\n",
       "    </tr>\n",
       "  </thead>\n",
       "  <tbody>\n",
       "    <tr>\n",
       "      <th>0</th>\n",
       "      <td>1633885200</td>\n",
       "      <td>81.07</td>\n",
       "      <td>64.15</td>\n",
       "      <td>83.71</td>\n",
       "      <td>58</td>\n",
       "      <td>6.85</td>\n",
       "      <td>Clouds</td>\n",
       "      <td>36104</td>\n",
       "    </tr>\n",
       "    <tr>\n",
       "      <th>1</th>\n",
       "      <td>1633971600</td>\n",
       "      <td>80.19</td>\n",
       "      <td>63.63</td>\n",
       "      <td>83.19</td>\n",
       "      <td>55</td>\n",
       "      <td>6.46</td>\n",
       "      <td>Clouds</td>\n",
       "      <td>36104</td>\n",
       "    </tr>\n",
       "    <tr>\n",
       "      <th>2</th>\n",
       "      <td>1634058000</td>\n",
       "      <td>82.78</td>\n",
       "      <td>65.79</td>\n",
       "      <td>86.02</td>\n",
       "      <td>55</td>\n",
       "      <td>5.75</td>\n",
       "      <td>Clear</td>\n",
       "      <td>36104</td>\n",
       "    </tr>\n",
       "    <tr>\n",
       "      <th>3</th>\n",
       "      <td>1634144400</td>\n",
       "      <td>84.15</td>\n",
       "      <td>66.69</td>\n",
       "      <td>84.20</td>\n",
       "      <td>46</td>\n",
       "      <td>7.18</td>\n",
       "      <td>Clouds</td>\n",
       "      <td>36104</td>\n",
       "    </tr>\n",
       "    <tr>\n",
       "      <th>4</th>\n",
       "      <td>1634230800</td>\n",
       "      <td>85.05</td>\n",
       "      <td>65.86</td>\n",
       "      <td>85.05</td>\n",
       "      <td>51</td>\n",
       "      <td>5.32</td>\n",
       "      <td>Clouds</td>\n",
       "      <td>36104</td>\n",
       "    </tr>\n",
       "  </tbody>\n",
       "</table>\n",
       "</div>"
      ],
      "text/plain": [
       "           dt  Temperature  Temp_Min  Temp_Max  Humidity  Wind    Main    Zip\n",
       "0  1633885200        81.07     64.15     83.71        58  6.85  Clouds  36104\n",
       "1  1633971600        80.19     63.63     83.19        55  6.46  Clouds  36104\n",
       "2  1634058000        82.78     65.79     86.02        55  5.75   Clear  36104\n",
       "3  1634144400        84.15     66.69     84.20        46  7.18  Clouds  36104\n",
       "4  1634230800        85.05     65.86     85.05        51  5.32  Clouds  36104"
      ]
     },
     "execution_count": 12,
     "metadata": {},
     "output_type": "execute_result"
    }
   ],
   "source": [
    "forecast_dict = {'dt':[],'Temperature':[],'Temp_Min':[],'Temp_Max':[],'Humidity':[],'Wind':[],'Main':[],'Zip':[]}\n",
    "for i,ent in enumerate(entity):\n",
    "    daily = ent['daily']\n",
    "    for j in range(len(daily)):\n",
    "        forecast_dict['dt'].append(daily[j]['dt'])\n",
    "        forecast_dict['Temperature'].append(daily[j]['temp']['day'])\n",
    "        forecast_dict['Temp_Min'].append(daily[j]['temp']['min'])\n",
    "        forecast_dict['Temp_Max'].append(daily[j]['temp']['max'])\n",
    "        forecast_dict['Humidity'].append(daily[j]['humidity'])\n",
    "        forecast_dict['Wind'].append(daily[j]['wind_speed'])\n",
    "        forecast_dict['Main'].append(daily[j]['weather'][0]['main'])\n",
    "        forecast_dict['Zip'].append(ZIP[i])\n",
    "    \n",
    "df = pd.DataFrame(forecast_dict)\n",
    "df.head(5)"
   ]
  },
  {
   "cell_type": "code",
   "execution_count": 44,
   "id": "2b79ac9f",
   "metadata": {},
   "outputs": [],
   "source": [
    "client = pymongo.MongoClient()\n",
    "database = client['test']\n",
    "collection = database['history']"
   ]
  },
  {
   "cell_type": "code",
   "execution_count": 51,
   "id": "214c03a1",
   "metadata": {},
   "outputs": [],
   "source": [
    "cursor = collection.find({},{'_id':0,'lat':1 , 'lon': 1, 'current':1})\n",
    "entity = list(cursor)"
   ]
  },
  {
   "cell_type": "code",
   "execution_count": 53,
   "id": "6c0cb238",
   "metadata": {
    "scrolled": true
   },
   "outputs": [
    {
     "data": {
      "text/plain": [
       "{'lat': 32.3777,\n",
       " 'lon': -86.3006,\n",
       " 'current': {'dt': 1633469753,\n",
       "  'sunrise': 1633434115,\n",
       "  'sunset': 1633476293,\n",
       "  'temp': 74.14,\n",
       "  'feels_like': 75.25,\n",
       "  'pressure': 1012,\n",
       "  'humidity': 85,\n",
       "  'dew_point': 69.33,\n",
       "  'uvi': 0.77,\n",
       "  'clouds': 75,\n",
       "  'visibility': 10000,\n",
       "  'wind_speed': 1.01,\n",
       "  'wind_deg': 49,\n",
       "  'wind_gust': 1.99,\n",
       "  'weather': [{'id': 501,\n",
       "    'main': 'Rain',\n",
       "    'description': 'moderate rain',\n",
       "    'icon': '10d'}],\n",
       "  'rain': {'1h': 1.15}}}"
      ]
     },
     "execution_count": 53,
     "metadata": {},
     "output_type": "execute_result"
    }
   ],
   "source": [
    "entity[0]"
   ]
  },
  {
   "cell_type": "code",
   "execution_count": 55,
   "id": "e9c93700",
   "metadata": {
    "scrolled": true
   },
   "outputs": [
    {
     "data": {
      "text/html": [
       "<div>\n",
       "<style scoped>\n",
       "    .dataframe tbody tr th:only-of-type {\n",
       "        vertical-align: middle;\n",
       "    }\n",
       "\n",
       "    .dataframe tbody tr th {\n",
       "        vertical-align: top;\n",
       "    }\n",
       "\n",
       "    .dataframe thead th {\n",
       "        text-align: right;\n",
       "    }\n",
       "</style>\n",
       "<table border=\"1\" class=\"dataframe\">\n",
       "  <thead>\n",
       "    <tr style=\"text-align: right;\">\n",
       "      <th></th>\n",
       "      <th>dt</th>\n",
       "      <th>Temperature</th>\n",
       "      <th>Temp_Min</th>\n",
       "      <th>Temp_Max</th>\n",
       "      <th>Humidity</th>\n",
       "      <th>Wind</th>\n",
       "      <th>Main</th>\n",
       "      <th>Zip</th>\n",
       "    </tr>\n",
       "  </thead>\n",
       "  <tbody>\n",
       "    <tr>\n",
       "      <th>0</th>\n",
       "      <td>1633885200</td>\n",
       "      <td>81.07</td>\n",
       "      <td>64.15</td>\n",
       "      <td>83.71</td>\n",
       "      <td>58</td>\n",
       "      <td>6.85</td>\n",
       "      <td>Clouds</td>\n",
       "      <td>36104</td>\n",
       "    </tr>\n",
       "    <tr>\n",
       "      <th>1</th>\n",
       "      <td>1633971600</td>\n",
       "      <td>80.19</td>\n",
       "      <td>63.63</td>\n",
       "      <td>83.19</td>\n",
       "      <td>55</td>\n",
       "      <td>6.46</td>\n",
       "      <td>Clouds</td>\n",
       "      <td>36104</td>\n",
       "    </tr>\n",
       "    <tr>\n",
       "      <th>2</th>\n",
       "      <td>1634058000</td>\n",
       "      <td>82.78</td>\n",
       "      <td>65.79</td>\n",
       "      <td>86.02</td>\n",
       "      <td>55</td>\n",
       "      <td>5.75</td>\n",
       "      <td>Clear</td>\n",
       "      <td>36104</td>\n",
       "    </tr>\n",
       "    <tr>\n",
       "      <th>3</th>\n",
       "      <td>1634144400</td>\n",
       "      <td>84.15</td>\n",
       "      <td>66.69</td>\n",
       "      <td>84.20</td>\n",
       "      <td>46</td>\n",
       "      <td>7.18</td>\n",
       "      <td>Clouds</td>\n",
       "      <td>36104</td>\n",
       "    </tr>\n",
       "    <tr>\n",
       "      <th>4</th>\n",
       "      <td>1634230800</td>\n",
       "      <td>85.05</td>\n",
       "      <td>65.86</td>\n",
       "      <td>85.05</td>\n",
       "      <td>51</td>\n",
       "      <td>5.32</td>\n",
       "      <td>Clouds</td>\n",
       "      <td>36104</td>\n",
       "    </tr>\n",
       "  </tbody>\n",
       "</table>\n",
       "</div>"
      ],
      "text/plain": [
       "           dt  Temperature  Temp_Min  Temp_Max  Humidity  Wind    Main    Zip\n",
       "0  1633885200        81.07     64.15     83.71        58  6.85  Clouds  36104\n",
       "1  1633971600        80.19     63.63     83.19        55  6.46  Clouds  36104\n",
       "2  1634058000        82.78     65.79     86.02        55  5.75   Clear  36104\n",
       "3  1634144400        84.15     66.69     84.20        46  7.18  Clouds  36104\n",
       "4  1634230800        85.05     65.86     85.05        51  5.32  Clouds  36104"
      ]
     },
     "execution_count": 55,
     "metadata": {},
     "output_type": "execute_result"
    }
   ],
   "source": [
    "history_dict = {'dt':[],'Temperature':[],'Humidity':[],'Wind':[],'Main':[],'Lat':[],'Lon':[]}\n",
    "for i,ent in enumerate(entity):\n",
    "    daily = ent['current']\n",
    "    history_dict['dt'].append(daily['dt'])\n",
    "    history_dict['Temperature'].append(daily['temp'])\n",
    "    history_dict['Humidity'].append(daily['humidity'])\n",
    "    history_dict['Wind'].append(daily['wind_speed'])\n",
    "    history_dict['Main'].append(daily['weather'][0]['main'])\n",
    "    history_dict['Lat'].append(ent['lat'])\n",
    "    history_dict['Lon'].append(ent['lon'])\n",
    "\n",
    "df = pd.DataFrame(forecast_dict)\n",
    "df.head(5)"
   ]
  },
  {
   "cell_type": "code",
   "execution_count": null,
   "id": "9feb6680",
   "metadata": {},
   "outputs": [],
   "source": []
  }
 ],
 "metadata": {
  "kernelspec": {
   "display_name": "Python 3",
   "language": "python",
   "name": "python3"
  },
  "language_info": {
   "codemirror_mode": {
    "name": "ipython",
    "version": 3
   },
   "file_extension": ".py",
   "mimetype": "text/x-python",
   "name": "python",
   "nbconvert_exporter": "python",
   "pygments_lexer": "ipython3",
   "version": "3.8.8"
  }
 },
 "nbformat": 4,
 "nbformat_minor": 5
}
